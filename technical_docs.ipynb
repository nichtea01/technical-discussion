{
  "nbformat": 4,
  "nbformat_minor": 0,
  "metadata": {
    "colab": {
      "provenance": [],
      "authorship_tag": "ABX9TyMQwx5h/7jhhLv95ONwREQL",
      "include_colab_link": true
    },
    "kernelspec": {
      "name": "python3",
      "display_name": "Python 3"
    },
    "language_info": {
      "name": "python"
    }
  },
  "cells": [
    {
      "cell_type": "markdown",
      "metadata": {
        "id": "view-in-github",
        "colab_type": "text"
      },
      "source": [
        "<a href=\"https://colab.research.google.com/github/nichtea01/technical-discussion/blob/main/technical_docs.ipynb\" target=\"_parent\"><img src=\"https://colab.research.google.com/assets/colab-badge.svg\" alt=\"Open In Colab\"/></a>"
      ]
    },
    {
      "cell_type": "code",
      "execution_count": 2,
      "metadata": {
        "colab": {
          "base_uri": "https://localhost:8080/"
        },
        "id": "SJq8bWNqQCgg",
        "outputId": "cd6175aa-572c-4814-812f-1c44bea55fea"
      },
      "outputs": [
        {
          "output_type": "execute_result",
          "data": {
            "text/plain": [
              "10"
            ]
          },
          "metadata": {},
          "execution_count": 2
        }
      ],
      "source": [
        "def gistdemo():\n",
        "    return 10\n",
        "gistdemo()"
      ]
    },
    {
      "cell_type": "markdown",
      "source": [
        "## Ingest"
      ],
      "metadata": {
        "id": "eJbkjWYZTg2D"
      }
    },
    {
      "cell_type": "code",
      "source": [],
      "metadata": {
        "id": "kYu7WJEiUXdy"
      },
      "execution_count": null,
      "outputs": []
    },
    {
      "cell_type": "code",
      "source": [],
      "metadata": {
        "id": "IINqQPcfUYRH"
      },
      "execution_count": null,
      "outputs": []
    },
    {
      "cell_type": "markdown",
      "source": [
        "## EDA"
      ],
      "metadata": {
        "id": "NEUiTTH9TkhU"
      }
    },
    {
      "cell_type": "code",
      "source": [],
      "metadata": {
        "id": "W2-Um2_MUV0j"
      },
      "execution_count": null,
      "outputs": []
    },
    {
      "cell_type": "markdown",
      "source": [
        "### this is a markdown 2nd heading\n",
        "\n",
        "* list item 1\n",
        "* list itme 2\n",
        "* list item 3"
      ],
      "metadata": {
        "id": "ILpoejWOU1bJ"
      }
    },
    {
      "cell_type": "code",
      "source": [],
      "metadata": {
        "id": "QXvxmtk_UZOI"
      },
      "execution_count": null,
      "outputs": []
    },
    {
      "cell_type": "markdown",
      "source": [
        "## Modeling"
      ],
      "metadata": {
        "id": "hqiDCHyXTnjy"
      }
    },
    {
      "cell_type": "code",
      "source": [],
      "metadata": {
        "id": "Pu_6EKPYUaCN"
      },
      "execution_count": null,
      "outputs": []
    },
    {
      "cell_type": "code",
      "source": [],
      "metadata": {
        "id": "TT95j6VoUaMm"
      },
      "execution_count": null,
      "outputs": []
    },
    {
      "cell_type": "markdown",
      "source": [
        "## Conclusion"
      ],
      "metadata": {
        "id": "u038U4wmTshn"
      }
    },
    {
      "cell_type": "code",
      "source": [],
      "metadata": {
        "id": "hQ3f0h_EUbSm"
      },
      "execution_count": null,
      "outputs": []
    },
    {
      "cell_type": "code",
      "source": [],
      "metadata": {
        "id": "JPmBMfGaUbbO"
      },
      "execution_count": null,
      "outputs": []
    }
  ]
}